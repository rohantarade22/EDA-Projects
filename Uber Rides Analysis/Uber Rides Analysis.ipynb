{
 "cells": [
  {
   "cell_type": "code",
   "execution_count": null,
   "id": "ce51d50b-7fb4-40b3-bc26-c3ddfcf05072",
   "metadata": {},
   "outputs": [],
   "source": [
    "Objectives :-\n",
    "1]In which category do people book the most uber rides\n",
    "2]for which purpose do people book uber rides the most \n",
    "3]at what time do people book cabs the most from uber\n",
    "4]in which months do people book uber rides less frequently\n",
    "5]on which day of week do people book uber rides the most\n",
    "6]how many miles do people usually book a cab for througn uber"
   ]
  },
  {
   "cell_type": "code",
   "execution_count": 1,
   "id": "009d74b1-2231-4f51-8cbd-731b490ecbb6",
   "metadata": {},
   "outputs": [],
   "source": [
    "import pandas as pd \n",
    "import numpy as np \n",
    "import matplotlib.pyplot as plt \n",
    "import seaborn as sns"
   ]
  },
  {
   "cell_type": "code",
   "execution_count": 18,
   "id": "338700b6-3d50-43e0-b2f0-e1f53ba96f92",
   "metadata": {},
   "outputs": [
    {
     "data": {
      "text/html": [
       "<div>\n",
       "<style scoped>\n",
       "    .dataframe tbody tr th:only-of-type {\n",
       "        vertical-align: middle;\n",
       "    }\n",
       "\n",
       "    .dataframe tbody tr th {\n",
       "        vertical-align: top;\n",
       "    }\n",
       "\n",
       "    .dataframe thead th {\n",
       "        text-align: right;\n",
       "    }\n",
       "</style>\n",
       "<table border=\"1\" class=\"dataframe\">\n",
       "  <thead>\n",
       "    <tr style=\"text-align: right;\">\n",
       "      <th></th>\n",
       "      <th>START_DATE*</th>\n",
       "      <th>END_DATE*</th>\n",
       "      <th>CATEGORY*</th>\n",
       "      <th>START*</th>\n",
       "      <th>STOP*</th>\n",
       "      <th>MILES*</th>\n",
       "      <th>PURPOSE*</th>\n",
       "    </tr>\n",
       "  </thead>\n",
       "  <tbody>\n",
       "    <tr>\n",
       "      <th>0</th>\n",
       "      <td>1/1/2016 21:11</td>\n",
       "      <td>1/1/2016 21:17</td>\n",
       "      <td>Business</td>\n",
       "      <td>Fort Pierce</td>\n",
       "      <td>Fort Pierce</td>\n",
       "      <td>5.1</td>\n",
       "      <td>Meal/Entertain</td>\n",
       "    </tr>\n",
       "    <tr>\n",
       "      <th>1</th>\n",
       "      <td>1/2/2016 1:25</td>\n",
       "      <td>1/2/2016 1:37</td>\n",
       "      <td>Business</td>\n",
       "      <td>Fort Pierce</td>\n",
       "      <td>Fort Pierce</td>\n",
       "      <td>5.0</td>\n",
       "      <td>NaN</td>\n",
       "    </tr>\n",
       "    <tr>\n",
       "      <th>2</th>\n",
       "      <td>1/2/2016 20:25</td>\n",
       "      <td>1/2/2016 20:38</td>\n",
       "      <td>Business</td>\n",
       "      <td>Fort Pierce</td>\n",
       "      <td>Fort Pierce</td>\n",
       "      <td>4.8</td>\n",
       "      <td>Errand/Supplies</td>\n",
       "    </tr>\n",
       "    <tr>\n",
       "      <th>3</th>\n",
       "      <td>1/5/2016 17:31</td>\n",
       "      <td>1/5/2016 17:45</td>\n",
       "      <td>Business</td>\n",
       "      <td>Fort Pierce</td>\n",
       "      <td>Fort Pierce</td>\n",
       "      <td>4.7</td>\n",
       "      <td>Meeting</td>\n",
       "    </tr>\n",
       "    <tr>\n",
       "      <th>4</th>\n",
       "      <td>1/6/2016 14:42</td>\n",
       "      <td>1/6/2016 15:49</td>\n",
       "      <td>Business</td>\n",
       "      <td>Fort Pierce</td>\n",
       "      <td>West Palm Beach</td>\n",
       "      <td>63.7</td>\n",
       "      <td>Customer Visit</td>\n",
       "    </tr>\n",
       "    <tr>\n",
       "      <th>...</th>\n",
       "      <td>...</td>\n",
       "      <td>...</td>\n",
       "      <td>...</td>\n",
       "      <td>...</td>\n",
       "      <td>...</td>\n",
       "      <td>...</td>\n",
       "      <td>...</td>\n",
       "    </tr>\n",
       "    <tr>\n",
       "      <th>1151</th>\n",
       "      <td>12/31/2016 13:24</td>\n",
       "      <td>12/31/2016 13:42</td>\n",
       "      <td>Business</td>\n",
       "      <td>Kar?chi</td>\n",
       "      <td>Unknown Location</td>\n",
       "      <td>3.9</td>\n",
       "      <td>Temporary Site</td>\n",
       "    </tr>\n",
       "    <tr>\n",
       "      <th>1152</th>\n",
       "      <td>12/31/2016 15:03</td>\n",
       "      <td>12/31/2016 15:38</td>\n",
       "      <td>Business</td>\n",
       "      <td>Unknown Location</td>\n",
       "      <td>Unknown Location</td>\n",
       "      <td>16.2</td>\n",
       "      <td>Meeting</td>\n",
       "    </tr>\n",
       "    <tr>\n",
       "      <th>1153</th>\n",
       "      <td>12/31/2016 21:32</td>\n",
       "      <td>12/31/2016 21:50</td>\n",
       "      <td>Business</td>\n",
       "      <td>Katunayake</td>\n",
       "      <td>Gampaha</td>\n",
       "      <td>6.4</td>\n",
       "      <td>Temporary Site</td>\n",
       "    </tr>\n",
       "    <tr>\n",
       "      <th>1154</th>\n",
       "      <td>12/31/2016 22:08</td>\n",
       "      <td>12/31/2016 23:51</td>\n",
       "      <td>Business</td>\n",
       "      <td>Gampaha</td>\n",
       "      <td>Ilukwatta</td>\n",
       "      <td>48.2</td>\n",
       "      <td>Temporary Site</td>\n",
       "    </tr>\n",
       "    <tr>\n",
       "      <th>1155</th>\n",
       "      <td>Totals</td>\n",
       "      <td>NaN</td>\n",
       "      <td>NaN</td>\n",
       "      <td>NaN</td>\n",
       "      <td>NaN</td>\n",
       "      <td>12204.7</td>\n",
       "      <td>NaN</td>\n",
       "    </tr>\n",
       "  </tbody>\n",
       "</table>\n",
       "<p>1156 rows × 7 columns</p>\n",
       "</div>"
      ],
      "text/plain": [
       "           START_DATE*         END_DATE* CATEGORY*            START*  \\\n",
       "0       1/1/2016 21:11    1/1/2016 21:17  Business       Fort Pierce   \n",
       "1        1/2/2016 1:25     1/2/2016 1:37  Business       Fort Pierce   \n",
       "2       1/2/2016 20:25    1/2/2016 20:38  Business       Fort Pierce   \n",
       "3       1/5/2016 17:31    1/5/2016 17:45  Business       Fort Pierce   \n",
       "4       1/6/2016 14:42    1/6/2016 15:49  Business       Fort Pierce   \n",
       "...                ...               ...       ...               ...   \n",
       "1151  12/31/2016 13:24  12/31/2016 13:42  Business           Kar?chi   \n",
       "1152  12/31/2016 15:03  12/31/2016 15:38  Business  Unknown Location   \n",
       "1153  12/31/2016 21:32  12/31/2016 21:50  Business        Katunayake   \n",
       "1154  12/31/2016 22:08  12/31/2016 23:51  Business           Gampaha   \n",
       "1155            Totals               NaN       NaN               NaN   \n",
       "\n",
       "                 STOP*   MILES*         PURPOSE*  \n",
       "0          Fort Pierce      5.1   Meal/Entertain  \n",
       "1          Fort Pierce      5.0              NaN  \n",
       "2          Fort Pierce      4.8  Errand/Supplies  \n",
       "3          Fort Pierce      4.7          Meeting  \n",
       "4      West Palm Beach     63.7   Customer Visit  \n",
       "...                ...      ...              ...  \n",
       "1151  Unknown Location      3.9   Temporary Site  \n",
       "1152  Unknown Location     16.2          Meeting  \n",
       "1153           Gampaha      6.4   Temporary Site  \n",
       "1154         Ilukwatta     48.2   Temporary Site  \n",
       "1155               NaN  12204.7              NaN  \n",
       "\n",
       "[1156 rows x 7 columns]"
      ]
     },
     "execution_count": 18,
     "metadata": {},
     "output_type": "execute_result"
    }
   ],
   "source": [
    "rst = pd.read_csv(\"Uber Drives.csv\")\n",
    "rst"
   ]
  },
  {
   "cell_type": "markdown",
   "id": "4104ed13-2bd8-4571-afbe-41163ce6808a",
   "metadata": {},
   "source": [
    "# Data Preprocessing & Cleaning"
   ]
  },
  {
   "cell_type": "code",
   "execution_count": 4,
   "id": "ab6e1943-333f-41db-96a0-545378987423",
   "metadata": {},
   "outputs": [
    {
     "data": {
      "text/html": [
       "<div>\n",
       "<style scoped>\n",
       "    .dataframe tbody tr th:only-of-type {\n",
       "        vertical-align: middle;\n",
       "    }\n",
       "\n",
       "    .dataframe tbody tr th {\n",
       "        vertical-align: top;\n",
       "    }\n",
       "\n",
       "    .dataframe thead th {\n",
       "        text-align: right;\n",
       "    }\n",
       "</style>\n",
       "<table border=\"1\" class=\"dataframe\">\n",
       "  <thead>\n",
       "    <tr style=\"text-align: right;\">\n",
       "      <th></th>\n",
       "      <th>START_DATE*</th>\n",
       "      <th>END_DATE*</th>\n",
       "      <th>CATEGORY*</th>\n",
       "      <th>START*</th>\n",
       "      <th>STOP*</th>\n",
       "      <th>MILES*</th>\n",
       "      <th>PURPOSE*</th>\n",
       "    </tr>\n",
       "  </thead>\n",
       "  <tbody>\n",
       "    <tr>\n",
       "      <th>0</th>\n",
       "      <td>1/1/2016 21:11</td>\n",
       "      <td>1/1/2016 21:17</td>\n",
       "      <td>Business</td>\n",
       "      <td>Fort Pierce</td>\n",
       "      <td>Fort Pierce</td>\n",
       "      <td>5.1</td>\n",
       "      <td>Meal/Entertain</td>\n",
       "    </tr>\n",
       "    <tr>\n",
       "      <th>1</th>\n",
       "      <td>1/2/2016 1:25</td>\n",
       "      <td>1/2/2016 1:37</td>\n",
       "      <td>Business</td>\n",
       "      <td>Fort Pierce</td>\n",
       "      <td>Fort Pierce</td>\n",
       "      <td>5.0</td>\n",
       "      <td>NaN</td>\n",
       "    </tr>\n",
       "    <tr>\n",
       "      <th>2</th>\n",
       "      <td>1/2/2016 20:25</td>\n",
       "      <td>1/2/2016 20:38</td>\n",
       "      <td>Business</td>\n",
       "      <td>Fort Pierce</td>\n",
       "      <td>Fort Pierce</td>\n",
       "      <td>4.8</td>\n",
       "      <td>Errand/Supplies</td>\n",
       "    </tr>\n",
       "    <tr>\n",
       "      <th>3</th>\n",
       "      <td>1/5/2016 17:31</td>\n",
       "      <td>1/5/2016 17:45</td>\n",
       "      <td>Business</td>\n",
       "      <td>Fort Pierce</td>\n",
       "      <td>Fort Pierce</td>\n",
       "      <td>4.7</td>\n",
       "      <td>Meeting</td>\n",
       "    </tr>\n",
       "    <tr>\n",
       "      <th>4</th>\n",
       "      <td>1/6/2016 14:42</td>\n",
       "      <td>1/6/2016 15:49</td>\n",
       "      <td>Business</td>\n",
       "      <td>Fort Pierce</td>\n",
       "      <td>West Palm Beach</td>\n",
       "      <td>63.7</td>\n",
       "      <td>Customer Visit</td>\n",
       "    </tr>\n",
       "    <tr>\n",
       "      <th>5</th>\n",
       "      <td>1/6/2016 17:15</td>\n",
       "      <td>1/6/2016 17:19</td>\n",
       "      <td>Business</td>\n",
       "      <td>West Palm Beach</td>\n",
       "      <td>West Palm Beach</td>\n",
       "      <td>4.3</td>\n",
       "      <td>Meal/Entertain</td>\n",
       "    </tr>\n",
       "    <tr>\n",
       "      <th>6</th>\n",
       "      <td>1/6/2016 17:30</td>\n",
       "      <td>1/6/2016 17:35</td>\n",
       "      <td>Business</td>\n",
       "      <td>West Palm Beach</td>\n",
       "      <td>Palm Beach</td>\n",
       "      <td>7.1</td>\n",
       "      <td>Meeting</td>\n",
       "    </tr>\n",
       "    <tr>\n",
       "      <th>7</th>\n",
       "      <td>1/7/2016 13:27</td>\n",
       "      <td>1/7/2016 13:33</td>\n",
       "      <td>Business</td>\n",
       "      <td>Cary</td>\n",
       "      <td>Cary</td>\n",
       "      <td>0.8</td>\n",
       "      <td>Meeting</td>\n",
       "    </tr>\n",
       "    <tr>\n",
       "      <th>8</th>\n",
       "      <td>1/10/2016 8:05</td>\n",
       "      <td>1/10/2016 8:25</td>\n",
       "      <td>Business</td>\n",
       "      <td>Cary</td>\n",
       "      <td>Morrisville</td>\n",
       "      <td>8.3</td>\n",
       "      <td>Meeting</td>\n",
       "    </tr>\n",
       "    <tr>\n",
       "      <th>9</th>\n",
       "      <td>1/10/2016 12:17</td>\n",
       "      <td>1/10/2016 12:44</td>\n",
       "      <td>Business</td>\n",
       "      <td>Jamaica</td>\n",
       "      <td>New York</td>\n",
       "      <td>16.5</td>\n",
       "      <td>Customer Visit</td>\n",
       "    </tr>\n",
       "  </tbody>\n",
       "</table>\n",
       "</div>"
      ],
      "text/plain": [
       "       START_DATE*        END_DATE* CATEGORY*           START*  \\\n",
       "0   1/1/2016 21:11   1/1/2016 21:17  Business      Fort Pierce   \n",
       "1    1/2/2016 1:25    1/2/2016 1:37  Business      Fort Pierce   \n",
       "2   1/2/2016 20:25   1/2/2016 20:38  Business      Fort Pierce   \n",
       "3   1/5/2016 17:31   1/5/2016 17:45  Business      Fort Pierce   \n",
       "4   1/6/2016 14:42   1/6/2016 15:49  Business      Fort Pierce   \n",
       "5   1/6/2016 17:15   1/6/2016 17:19  Business  West Palm Beach   \n",
       "6   1/6/2016 17:30   1/6/2016 17:35  Business  West Palm Beach   \n",
       "7   1/7/2016 13:27   1/7/2016 13:33  Business             Cary   \n",
       "8   1/10/2016 8:05   1/10/2016 8:25  Business             Cary   \n",
       "9  1/10/2016 12:17  1/10/2016 12:44  Business          Jamaica   \n",
       "\n",
       "             STOP*  MILES*         PURPOSE*  \n",
       "0      Fort Pierce     5.1   Meal/Entertain  \n",
       "1      Fort Pierce     5.0              NaN  \n",
       "2      Fort Pierce     4.8  Errand/Supplies  \n",
       "3      Fort Pierce     4.7          Meeting  \n",
       "4  West Palm Beach    63.7   Customer Visit  \n",
       "5  West Palm Beach     4.3   Meal/Entertain  \n",
       "6       Palm Beach     7.1          Meeting  \n",
       "7             Cary     0.8          Meeting  \n",
       "8      Morrisville     8.3          Meeting  \n",
       "9         New York    16.5   Customer Visit  "
      ]
     },
     "execution_count": 4,
     "metadata": {},
     "output_type": "execute_result"
    }
   ],
   "source": [
    "rst.head(10)"
   ]
  },
  {
   "cell_type": "code",
   "execution_count": 5,
   "id": "3a59db15-129f-4a63-aa35-423fac08b85c",
   "metadata": {},
   "outputs": [
    {
     "name": "stdout",
     "output_type": "stream",
     "text": [
      "<class 'pandas.core.frame.DataFrame'>\n",
      "RangeIndex: 1156 entries, 0 to 1155\n",
      "Data columns (total 7 columns):\n",
      " #   Column       Non-Null Count  Dtype  \n",
      "---  ------       --------------  -----  \n",
      " 0   START_DATE*  1156 non-null   object \n",
      " 1   END_DATE*    1155 non-null   object \n",
      " 2   CATEGORY*    1155 non-null   object \n",
      " 3   START*       1155 non-null   object \n",
      " 4   STOP*        1155 non-null   object \n",
      " 5   MILES*       1156 non-null   float64\n",
      " 6   PURPOSE*     653 non-null    object \n",
      "dtypes: float64(1), object(6)\n",
      "memory usage: 63.3+ KB\n"
     ]
    }
   ],
   "source": [
    "rst.info()"
   ]
  },
  {
   "cell_type": "code",
   "execution_count": 6,
   "id": "283be460-d5ee-40ca-9657-763fbb2e292f",
   "metadata": {},
   "outputs": [
    {
     "data": {
      "text/plain": [
       "START_DATE*      0\n",
       "END_DATE*        1\n",
       "CATEGORY*        1\n",
       "START*           1\n",
       "STOP*            1\n",
       "MILES*           0\n",
       "PURPOSE*       503\n",
       "dtype: int64"
      ]
     },
     "execution_count": 6,
     "metadata": {},
     "output_type": "execute_result"
    }
   ],
   "source": [
    "rst.isna().sum()"
   ]
  },
  {
   "cell_type": "code",
   "execution_count": 20,
   "id": "c6b19b12-6783-426d-a994-488dc183e70e",
   "metadata": {},
   "outputs": [],
   "source": [
    "#In purpose columns there are 503 null values ,so first we deal with these null values\n",
    "\n",
    "rst['PURPOSE*'].fillna(\"Empty\",inplace=True)\n"
   ]
  },
  {
   "cell_type": "code",
   "execution_count": 21,
   "id": "3454ce37-f83b-41a2-8d1e-833fb7ca40b1",
   "metadata": {},
   "outputs": [],
   "source": [
    "#Change the datatype of start date and end date -object to date\n",
    "rst['START_DATE*'] = pd.to_datetime(rst['START_DATE*'],errors='coerce')"
   ]
  },
  {
   "cell_type": "code",
   "execution_count": 22,
   "id": "32b50602-a0e1-498d-b936-d18e384f022c",
   "metadata": {},
   "outputs": [],
   "source": [
    "rst['END_DATE*'] = pd.to_datetime(rst['END_DATE*'],errors='coerce')"
   ]
  },
  {
   "cell_type": "code",
   "execution_count": 29,
   "id": "3dd1bcfb-2e3e-409e-9e4b-8a8654065197",
   "metadata": {},
   "outputs": [
    {
     "data": {
      "text/html": [
       "<div>\n",
       "<style scoped>\n",
       "    .dataframe tbody tr th:only-of-type {\n",
       "        vertical-align: middle;\n",
       "    }\n",
       "\n",
       "    .dataframe tbody tr th {\n",
       "        vertical-align: top;\n",
       "    }\n",
       "\n",
       "    .dataframe thead th {\n",
       "        text-align: right;\n",
       "    }\n",
       "</style>\n",
       "<table border=\"1\" class=\"dataframe\">\n",
       "  <thead>\n",
       "    <tr style=\"text-align: right;\">\n",
       "      <th></th>\n",
       "      <th>START_DATE*</th>\n",
       "      <th>END_DATE*</th>\n",
       "      <th>CATEGORY*</th>\n",
       "      <th>START*</th>\n",
       "      <th>STOP*</th>\n",
       "      <th>MILES*</th>\n",
       "      <th>PURPOSE*</th>\n",
       "    </tr>\n",
       "  </thead>\n",
       "  <tbody>\n",
       "    <tr>\n",
       "      <th>1150</th>\n",
       "      <td>2016-12-31 01:07:00</td>\n",
       "      <td>2016-12-31 01:14:00</td>\n",
       "      <td>Business</td>\n",
       "      <td>Kar?chi</td>\n",
       "      <td>Kar?chi</td>\n",
       "      <td>0.7</td>\n",
       "      <td>Meeting</td>\n",
       "    </tr>\n",
       "    <tr>\n",
       "      <th>1151</th>\n",
       "      <td>2016-12-31 13:24:00</td>\n",
       "      <td>2016-12-31 13:42:00</td>\n",
       "      <td>Business</td>\n",
       "      <td>Kar?chi</td>\n",
       "      <td>Unknown Location</td>\n",
       "      <td>3.9</td>\n",
       "      <td>Temporary Site</td>\n",
       "    </tr>\n",
       "    <tr>\n",
       "      <th>1152</th>\n",
       "      <td>2016-12-31 15:03:00</td>\n",
       "      <td>2016-12-31 15:38:00</td>\n",
       "      <td>Business</td>\n",
       "      <td>Unknown Location</td>\n",
       "      <td>Unknown Location</td>\n",
       "      <td>16.2</td>\n",
       "      <td>Meeting</td>\n",
       "    </tr>\n",
       "    <tr>\n",
       "      <th>1153</th>\n",
       "      <td>2016-12-31 21:32:00</td>\n",
       "      <td>2016-12-31 21:50:00</td>\n",
       "      <td>Business</td>\n",
       "      <td>Katunayake</td>\n",
       "      <td>Gampaha</td>\n",
       "      <td>6.4</td>\n",
       "      <td>Temporary Site</td>\n",
       "    </tr>\n",
       "    <tr>\n",
       "      <th>1154</th>\n",
       "      <td>2016-12-31 22:08:00</td>\n",
       "      <td>2016-12-31 23:51:00</td>\n",
       "      <td>Business</td>\n",
       "      <td>Gampaha</td>\n",
       "      <td>Ilukwatta</td>\n",
       "      <td>48.2</td>\n",
       "      <td>Temporary Site</td>\n",
       "    </tr>\n",
       "  </tbody>\n",
       "</table>\n",
       "</div>"
      ],
      "text/plain": [
       "             START_DATE*           END_DATE* CATEGORY*            START*  \\\n",
       "1150 2016-12-31 01:07:00 2016-12-31 01:14:00  Business           Kar?chi   \n",
       "1151 2016-12-31 13:24:00 2016-12-31 13:42:00  Business           Kar?chi   \n",
       "1152 2016-12-31 15:03:00 2016-12-31 15:38:00  Business  Unknown Location   \n",
       "1153 2016-12-31 21:32:00 2016-12-31 21:50:00  Business        Katunayake   \n",
       "1154 2016-12-31 22:08:00 2016-12-31 23:51:00  Business           Gampaha   \n",
       "\n",
       "                 STOP*  MILES*        PURPOSE*  \n",
       "1150           Kar?chi     0.7         Meeting  \n",
       "1151  Unknown Location     3.9  Temporary Site  \n",
       "1152  Unknown Location    16.2         Meeting  \n",
       "1153           Gampaha     6.4  Temporary Site  \n",
       "1154         Ilukwatta    48.2  Temporary Site  "
      ]
     },
     "execution_count": 29,
     "metadata": {},
     "output_type": "execute_result"
    }
   ],
   "source": [
    "rst.tail(5) # 1155 row contain all null values so we drop that row "
   ]
  },
  {
   "cell_type": "code",
   "execution_count": 33,
   "id": "4f8a10f5-68cf-46ae-9014-74ad4eea349e",
   "metadata": {},
   "outputs": [],
   "source": [
    "#we extract the date and time in different columns \n",
    "from datetime import datetime\n",
    "rst['date'] = pd.DatetimeIndex(rst['START_DATE*']).date\n",
    "rst['time'] = pd.DatetimeIndex(rst['START_DATE*']).hour"
   ]
  },
  {
   "cell_type": "code",
   "execution_count": 35,
   "id": "468c885f-1aa3-4c90-8a94-255ca78e48ab",
   "metadata": {},
   "outputs": [],
   "source": [
    "# we make new column which determine time in timestamp like morning ,afternoon.........\n",
    "rst['timestamp'] = pd.cut(x=rst['time'],bins=[0,10,15,19,24],labels=['morning','afternoon','evening','night'])"
   ]
  },
  {
   "cell_type": "code",
   "execution_count": 49,
   "id": "156761e0-5b81-40a5-b388-b31516e524f1",
   "metadata": {},
   "outputs": [
    {
     "name": "stderr",
     "output_type": "stream",
     "text": [
      "C:\\Users\\Dell\\AppData\\Local\\Temp\\ipykernel_3532\\153695133.py:1: FutureWarning: A value is trying to be set on a copy of a DataFrame or Series through chained assignment using an inplace method.\n",
      "The behavior will change in pandas 3.0. This inplace method will never work because the intermediate object on which we are setting values always behaves as a copy.\n",
      "\n",
      "For example, when doing 'df[col].method(value, inplace=True)', try using 'df.method({col: value}, inplace=True)' or df[col] = df[col].method(value) instead, to perform the operation inplace on the original object.\n",
      "\n",
      "\n",
      "  rst['timestamp'].fillna(''\"morning\",inplace=True)\n"
     ]
    }
   ],
   "source": [
    "#To fill the null values in timestamp\n",
    "rst['timestamp'].fillna(''\"morning\",inplace=True)"
   ]
  },
  {
   "cell_type": "code",
   "execution_count": 91,
   "id": "526ce5e7-4e2e-4f78-99bd-1f9d9863e082",
   "metadata": {},
   "outputs": [
    {
     "data": {
      "text/html": [
       "<div>\n",
       "<style scoped>\n",
       "    .dataframe tbody tr th:only-of-type {\n",
       "        vertical-align: middle;\n",
       "    }\n",
       "\n",
       "    .dataframe tbody tr th {\n",
       "        vertical-align: top;\n",
       "    }\n",
       "\n",
       "    .dataframe thead th {\n",
       "        text-align: right;\n",
       "    }\n",
       "</style>\n",
       "<table border=\"1\" class=\"dataframe\">\n",
       "  <thead>\n",
       "    <tr style=\"text-align: right;\">\n",
       "      <th></th>\n",
       "      <th>START_DATE*</th>\n",
       "      <th>END_DATE*</th>\n",
       "      <th>CATEGORY*</th>\n",
       "      <th>START*</th>\n",
       "      <th>STOP*</th>\n",
       "      <th>MILES*</th>\n",
       "      <th>PURPOSE*</th>\n",
       "      <th>date</th>\n",
       "      <th>time</th>\n",
       "      <th>timestamp</th>\n",
       "    </tr>\n",
       "  </thead>\n",
       "  <tbody>\n",
       "    <tr>\n",
       "      <th>0</th>\n",
       "      <td>2016-01-01 21:11:00</td>\n",
       "      <td>2016-01-01 21:17:00</td>\n",
       "      <td>Business</td>\n",
       "      <td>Fort Pierce</td>\n",
       "      <td>Fort Pierce</td>\n",
       "      <td>5.1</td>\n",
       "      <td>Meal/Entertain</td>\n",
       "      <td>2016-01-01</td>\n",
       "      <td>21</td>\n",
       "      <td>night</td>\n",
       "    </tr>\n",
       "    <tr>\n",
       "      <th>1</th>\n",
       "      <td>2016-01-02 01:25:00</td>\n",
       "      <td>2016-01-02 01:37:00</td>\n",
       "      <td>Business</td>\n",
       "      <td>Fort Pierce</td>\n",
       "      <td>Fort Pierce</td>\n",
       "      <td>5.0</td>\n",
       "      <td>Empty</td>\n",
       "      <td>2016-01-02</td>\n",
       "      <td>1</td>\n",
       "      <td>night</td>\n",
       "    </tr>\n",
       "    <tr>\n",
       "      <th>2</th>\n",
       "      <td>2016-01-02 20:25:00</td>\n",
       "      <td>2016-01-02 20:38:00</td>\n",
       "      <td>Business</td>\n",
       "      <td>Fort Pierce</td>\n",
       "      <td>Fort Pierce</td>\n",
       "      <td>4.8</td>\n",
       "      <td>Errand/Supplies</td>\n",
       "      <td>2016-01-02</td>\n",
       "      <td>20</td>\n",
       "      <td>night</td>\n",
       "    </tr>\n",
       "    <tr>\n",
       "      <th>3</th>\n",
       "      <td>2016-01-05 17:31:00</td>\n",
       "      <td>2016-01-05 17:45:00</td>\n",
       "      <td>Business</td>\n",
       "      <td>Fort Pierce</td>\n",
       "      <td>Fort Pierce</td>\n",
       "      <td>4.7</td>\n",
       "      <td>Meeting</td>\n",
       "      <td>2016-01-05</td>\n",
       "      <td>17</td>\n",
       "      <td>evening</td>\n",
       "    </tr>\n",
       "    <tr>\n",
       "      <th>4</th>\n",
       "      <td>2016-01-06 14:42:00</td>\n",
       "      <td>2016-01-06 15:49:00</td>\n",
       "      <td>Business</td>\n",
       "      <td>Fort Pierce</td>\n",
       "      <td>West Palm Beach</td>\n",
       "      <td>63.7</td>\n",
       "      <td>Customer Visit</td>\n",
       "      <td>2016-01-06</td>\n",
       "      <td>14</td>\n",
       "      <td>afternoon</td>\n",
       "    </tr>\n",
       "  </tbody>\n",
       "</table>\n",
       "</div>"
      ],
      "text/plain": [
       "          START_DATE*           END_DATE* CATEGORY*       START*  \\\n",
       "0 2016-01-01 21:11:00 2016-01-01 21:17:00  Business  Fort Pierce   \n",
       "1 2016-01-02 01:25:00 2016-01-02 01:37:00  Business  Fort Pierce   \n",
       "2 2016-01-02 20:25:00 2016-01-02 20:38:00  Business  Fort Pierce   \n",
       "3 2016-01-05 17:31:00 2016-01-05 17:45:00  Business  Fort Pierce   \n",
       "4 2016-01-06 14:42:00 2016-01-06 15:49:00  Business  Fort Pierce   \n",
       "\n",
       "             STOP*  MILES*         PURPOSE*        date  time  timestamp  \n",
       "0      Fort Pierce     5.1   Meal/Entertain  2016-01-01    21      night  \n",
       "1      Fort Pierce     5.0            Empty  2016-01-02     1      night  \n",
       "2      Fort Pierce     4.8  Errand/Supplies  2016-01-02    20      night  \n",
       "3      Fort Pierce     4.7          Meeting  2016-01-05    17    evening  \n",
       "4  West Palm Beach    63.7   Customer Visit  2016-01-06    14  afternoon  "
      ]
     },
     "execution_count": 91,
     "metadata": {},
     "output_type": "execute_result"
    }
   ],
   "source": [
    "rst.head(5)"
   ]
  },
  {
   "cell_type": "code",
   "execution_count": 52,
   "id": "d1bdb86e-f4cb-4c76-b04a-194544bb5b95",
   "metadata": {},
   "outputs": [
    {
     "name": "stdout",
     "output_type": "stream",
     "text": [
      "<class 'pandas.core.frame.DataFrame'>\n",
      "RangeIndex: 1155 entries, 0 to 1154\n",
      "Data columns (total 10 columns):\n",
      " #   Column       Non-Null Count  Dtype         \n",
      "---  ------       --------------  -----         \n",
      " 0   START_DATE*  1155 non-null   datetime64[ns]\n",
      " 1   END_DATE*    1155 non-null   datetime64[ns]\n",
      " 2   CATEGORY*    1155 non-null   object        \n",
      " 3   START*       1155 non-null   object        \n",
      " 4   STOP*        1155 non-null   object        \n",
      " 5   MILES*       1155 non-null   float64       \n",
      " 6   PURPOSE*     1155 non-null   object        \n",
      " 7   date         1155 non-null   object        \n",
      " 8   time         1155 non-null   int32         \n",
      " 9   timestamp    1155 non-null   category      \n",
      "dtypes: category(1), datetime64[ns](2), float64(1), int32(1), object(5)\n",
      "memory usage: 78.2+ KB\n"
     ]
    }
   ],
   "source": [
    "rst.info()"
   ]
  },
  {
   "cell_type": "markdown",
   "id": "ff563c3f-31e0-4113-8b32-62beff103fa0",
   "metadata": {},
   "source": [
    "From above information we observed all null values are managed and we change datatype accordingly"
   ]
  },
  {
   "cell_type": "markdown",
   "id": "1c283c23-5a62-46a5-a5ce-4e8b95ec8e59",
   "metadata": {},
   "source": [
    "# Data Visualization"
   ]
  },
  {
   "cell_type": "markdown",
   "id": "134c8fdc-2021-4f37-97dc-20e6cba30706",
   "metadata": {},
   "source": [
    "1]In which category do people book the most uber rides"
   ]
  },
  {
   "cell_type": "code",
   "execution_count": 54,
   "id": "64c5b4f5-cdd7-479e-b44e-ea27c87ebd3d",
   "metadata": {},
   "outputs": [
    {
     "data": {
      "text/plain": [
       "array(['Business', 'Personal'], dtype=object)"
      ]
     },
     "execution_count": 54,
     "metadata": {},
     "output_type": "execute_result"
    }
   ],
   "source": [
    "rst['CATEGORY*'].unique()"
   ]
  },
  {
   "cell_type": "code",
   "execution_count": 74,
   "id": "6353c530-237d-4d7a-9ff5-1d954f0a27ea",
   "metadata": {},
   "outputs": [
    {
     "data": {
      "image/png": "[encoded data removed]",
      "text/plain": [
       "<Figure size 400x400 with 1 Axes>"
      ]
     },
     "metadata": {},
     "output_type": "display_data"
    }
   ],
   "source": [
    "plt.figure(figsize=(4,4))\n",
    "ax = sns.countplot(x='CATEGORY*',data=rst,width=0.5,hue='CATEGORY*',palette='deep')\n",
    "for bars in ax.containers:\n",
    "    ax.bar_label(bars)\n",
    "plt.title(\"Booking Category\",fontsize=14)\n",
    "ax.set_xlabel('Category', fontsize=12)\n",
    "ax.set_ylabel('Count', fontsize=12)\n",
    "plt.show()"
   ]
  },
  {
   "cell_type": "markdown",
   "id": "b598e08f-915c-476a-aef8-9b1ed87ff3a4",
   "metadata": {},
   "source": [
    "Conclusion--From above graph we can conclude that people mostly use uber for Business purpose......."
   ]
  },
  {
   "cell_type": "markdown",
   "id": "c839e51e-39fc-438d-b33a-1715dc4d0188",
   "metadata": {},
   "source": [
    "2]for which purpose do people book uber rides the most"
   ]
  },
  {
   "cell_type": "code",
   "execution_count": 88,
   "id": "a91d433d-a5c3-40df-b8af-77c81d1c04a0",
   "metadata": {},
   "outputs": [
    {
     "data": {
      "image/png": "[encoded data removed]",
      "text/plain": [
       "<Figure size 1500x400 with 1 Axes>"
      ]
     },
     "metadata": {},
     "output_type": "display_data"
    }
   ],
   "source": [
    "plt.figure(figsize=(15,4))\n",
    "ax = sns.countplot(x='PURPOSE*',data=rst,hue='PURPOSE*',width=0.5)\n",
    "plt.title(\"Booking Purpose\",fontsize=20)\n",
    "ax.set_xlabel(\"Purpose\",fontsize=15)\n",
    "ax.set_ylabel(\"Count\",fontsize=15)\n",
    "for bars in ax.containers:\n",
    "    ax.bar_label(bars)\n",
    "plt.show()"
   ]
  },
  {
   "cell_type": "markdown",
   "id": "dd25a0db-9cf2-410a-985c-382357a00190",
   "metadata": {},
   "source": [
    "Conclusion--  Most of People not filled the purpose of ride booking.According to above graph highest count of purposes are empty then people use ride for meeting and entertain purpose"
   ]
  },
  {
   "cell_type": "markdown",
   "id": "81f93430-4f50-48f1-a56b-6a58d5735ccd",
   "metadata": {},
   "source": [
    "3]at what time do people book cabs the most from uber"
   ]
  },
  {
   "cell_type": "code",
   "execution_count": 99,
   "id": "ea42ec98-203a-474e-99ea-78c3dd621dc3",
   "metadata": {},
   "outputs": [
    {
     "data": {
      "image/png": "[encoded data removed]",
      "text/plain": [
       "<Figure size 640x480 with 1 Axes>"
      ]
     },
     "metadata": {},
     "output_type": "display_data"
    }
   ],
   "source": [
    "ax = sns.countplot(x='timestamp',data=rst,hue='timestamp',palette='plasma',saturation=0.5)\n",
    "for bars in ax.containers:\n",
    "    ax.bar_label(bars)\n",
    "plt.title(\"Rides Time\",fontsize=14)\n",
    "ax.set_xlabel(\"timestamp\",fontsize=10)\n",
    "ax.set_ylabel(\"Count\",fontsize=10)\n",
    "plt.show()"
   ]
  },
  {
   "cell_type": "markdown",
   "id": "c55664dc-afad-4d73-a696-ff1fa9090ba4",
   "metadata": {},
   "source": [
    "conclusion -- By referring above graphs we conclude that mostly customer prefer ride at 'afternoon' and 'evening' in between 10 to 7."
   ]
  },
  {
   "cell_type": "markdown",
   "id": "eed1e915-71cd-4a2e-9c76-ccbdbc00b35e",
   "metadata": {},
   "source": [
    "4] In which months do people book uber rides less frequently"
   ]
  },
  {
   "cell_type": "code",
   "execution_count": 100,
   "id": "8ad6910f-5404-450e-ac86-c23334d74a63",
   "metadata": {},
   "outputs": [],
   "source": [
    "# To display month we have to extract month from start date column\n",
    "rst['month'] = pd.DatetimeIndex(rst['START_DATE*']).month #extract month from date\n",
    "\n",
    "month_label = {1.0:'jan',2.0:'feb',3.0:'mar',4.0:'apr',5.0:'may',\n",
    "               6.0:'jun',7.0:'july',8.0:'aug',9.0:'sep',\n",
    "               10.0:'oct',11.0:'nov',12.0:'dec'}\n",
    "\n",
    "rst['month'] = rst.month.map(month_label)\n",
    "mon = rst.month.value_counts(sort=False)\n"
   ]
  },
  {
   "cell_type": "code",
   "execution_count": 102,
   "id": "b617e9f6-3e57-4dc2-90ab-1b892c38fc10",
   "metadata": {},
   "outputs": [
    {
     "data": {
      "text/plain": [
       "array(['jan', 'feb', 'mar', 'apr', 'may', 'jun', 'july', 'aug', 'sep',\n",
       "       'oct', 'nov', 'dec'], dtype=object)"
      ]
     },
     "execution_count": 102,
     "metadata": {},
     "output_type": "execute_result"
    }
   ],
   "source": [
    "rst['month'].unique()"
   ]
  },
  {
   "cell_type": "code",
   "execution_count": 114,
   "id": "2333ce26-4c05-45be-8f2f-ff588ca880ea",
   "metadata": {},
   "outputs": [
    {
     "data": {
      "image/png": "[encoded data removed]",
      "text/plain": [
       "<Figure size 640x480 with 1 Axes>"
      ]
     },
     "metadata": {},
     "output_type": "display_data"
    }
   ],
   "source": [
    "ax = sns.countplot(x='month',data=rst,hue='month',palette='Accent')\n",
    "plt.title(\"Booking on Months\",fontsize=14)\n",
    "ax.set_xlabel(\"month\",fontsize=12)\n",
    "ax.set_ylabel(\"Count\",fontsize=12)\n",
    "plt.show()"
   ]
  },
  {
   "cell_type": "markdown",
   "id": "ff0415b7-94b2-45eb-9874-1e1dd3a1f3e4",
   "metadata": {},
   "source": [
    "Conclusion -- Above graph represents the count of booking according to month ,so according to question in september people book less rides & in december month people book more rides compare to other months"
   ]
  },
  {
   "cell_type": "markdown",
   "id": "e6a1d716-0517-486d-a0c6-7cb8cf745184",
   "metadata": {},
   "source": [
    "5] On which day of week do people book uber rides the most"
   ]
  },
  {
   "cell_type": "code",
   "execution_count": 116,
   "id": "a2355e31-5576-4090-a4a8-69c37a96b576",
   "metadata": {},
   "outputs": [],
   "source": [
    "# To display day we have to extract day from start date column\n",
    "rst['day'] = pd.DatetimeIndex(rst['START_DATE*']).weekday #extract month from date\n",
    "\n",
    "day_label = {1:'mon',2:'tues',3:'wed',4:'thur',5:'fri',\n",
    "               6:'sat',7:'sun'}\n",
    "\n",
    "rst['day'] = rst['day'].map(day_label)\n",
    "#mon = rst.month.value_counts(sort=False)\n"
   ]
  },
  {
   "cell_type": "code",
   "execution_count": 117,
   "id": "1f7638c4-a0a4-4ed8-a039-d9b0e0e3a4aa",
   "metadata": {},
   "outputs": [
    {
     "data": {
      "text/plain": [
       "array(['thur', 'fri', 'mon', 'tues', 'wed', 'sat', nan], dtype=object)"
      ]
     },
     "execution_count": 117,
     "metadata": {},
     "output_type": "execute_result"
    }
   ],
   "source": [
    "rst['day'].unique()"
   ]
  },
  {
   "cell_type": "code",
   "execution_count": 124,
   "id": "e3108e48-5cde-4f29-847a-9def0fffd489",
   "metadata": {},
   "outputs": [
    {
     "data": {
      "image/png": "[encoded data removed]",
      "text/plain": [
       "<Figure size 640x480 with 1 Axes>"
      ]
     },
     "metadata": {},
     "output_type": "display_data"
    }
   ],
   "source": [
    "ax = sns.countplot(x='day',data=rst,hue='day',palette='muted')\n",
    "plt.title(\"Booking on weekday\",fontsize=14)\n",
    "ax.set_xlabel(\"month\",fontsize=12)\n",
    "ax.set_ylabel(\"Count\",fontsize=12)\n",
    "plt.show()"
   ]
  },
  {
   "cell_type": "markdown",
   "id": "c224c9a8-90d3-4ede-b074-844a4987dd63",
   "metadata": {},
   "source": [
    "Conclusion -- Thursday is a day in a week on which people booked more rides"
   ]
  },
  {
   "cell_type": "markdown",
   "id": "d9f7bd0c-029b-4c97-bc21-03228e9f32a3",
   "metadata": {},
   "source": [
    "6] How many miles do people usually book a cab for througn uber"
   ]
  },
  {
   "cell_type": "code",
   "execution_count": 129,
   "id": "0ae5ecdd-99fc-4289-919f-046e7400756a",
   "metadata": {},
   "outputs": [
    {
     "data": {
      "image/png": "[encoded data removed]",
      "text/plain": [
       "<Figure size 640x480 with 1 Axes>"
      ]
     },
     "metadata": {},
     "output_type": "display_data"
    }
   ],
   "source": [
    "sns.boxplot(y='MILES*',data=rst)\n",
    "plt.show()"
   ]
  },
  {
   "cell_type": "code",
   "execution_count": 132,
   "id": "cc646d59-05c9-4ef5-b31b-0b529e1b9fb2",
   "metadata": {},
   "outputs": [
    {
     "data": {
      "image/png": "[encoded data removed]",
      "text/plain": [
       "<Figure size 640x480 with 1 Axes>"
      ]
     },
     "metadata": {},
     "output_type": "display_data"
    }
   ],
   "source": [
    "sns.boxplot(rst[rst['MILES*']<40]['MILES*'])\n",
    "plt.show()"
   ]
  },
  {
   "cell_type": "markdown",
   "id": "5a0f837c-bec0-4e08-acf1-21ef7785ed6e",
   "metadata": {},
   "source": [
    "Conclusion -- By above boxplot we conclude that mostly people prefer Uber rides for 0 to 20 Miles"
   ]
  },
  {
   "cell_type": "markdown",
   "id": "c6fb537b-b593-4781-b6ed-e67d3fd78c84",
   "metadata": {},
   "source": [
    "# Conclusions according to Objectives"
   ]
  },
  {
   "cell_type": "raw",
   "id": "77d2f3ac-77ec-45a8-a9ba-21ef77ad6c86",
   "metadata": {},
   "source": [
    "1] we can conclude that people mostly use uber for Business purpose\n",
    "2] Most of People not filled the purpose of ride booking.According to above graph highest count of purposes are empty then people use ride for meeting     and entertain purpose\n",
    "3] we conclude that mostly customer prefer ride at 'afternoon' and 'evening' in between 10 to 7.\n",
    "4] In september people book less rides & in december month people book more rides compare to other months.\n",
    "5] Thursday is a day in a week on which people booked more rides.\n",
    "6] we conclude that mostly people prefer Uber rides for 0 to 20 Miles."
   ]
  },
  {
   "cell_type": "code",
   "execution_count": null,
   "id": "079f5a13-a048-4f8f-a643-0f09bf731642",
   "metadata": {},
   "outputs": [],
   "source": []
  }
 ],
 "metadata": {
  "kernelspec": {
   "display_name": "Python 3 (ipykernel)",
   "language": "python",
   "name": "python3"
  },
  "language_info": {
   "codemirror_mode": {
    "name": "ipython",
    "version": 3
   },
   "file_extension": ".py",
   "mimetype": "text/x-python",
   "name": "python",
   "nbconvert_exporter": "python",
   "pygments_lexer": "ipython3",
   "version": "3.12.4"
  }
 },
 "nbformat": 4,
 "nbformat_minor": 5
}
